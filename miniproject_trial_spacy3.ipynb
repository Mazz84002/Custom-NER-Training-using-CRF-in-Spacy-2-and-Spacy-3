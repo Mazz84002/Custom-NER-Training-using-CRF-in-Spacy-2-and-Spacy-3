{
 "cells": [
  {
   "cell_type": "code",
   "execution_count": 2,
   "metadata": {},
   "outputs": [],
   "source": [
    "import spacy"
   ]
  },
  {
   "cell_type": "code",
   "execution_count": 3,
   "metadata": {},
   "outputs": [
    {
     "data": {
      "text/plain": [
       "'3.4.1'"
      ]
     },
     "execution_count": 3,
     "metadata": {},
     "output_type": "execute_result"
    }
   ],
   "source": [
    "spacy.__version__"
   ]
  },
  {
   "cell_type": "code",
   "execution_count": 24,
   "metadata": {},
   "outputs": [
    {
     "ename": "NameError",
     "evalue": "name 'CRFExctractor' is not defined",
     "output_type": "error",
     "traceback": [
      "\u001b[0;31m---------------------------------------------------------------------------\u001b[0m",
      "\u001b[0;31mNameError\u001b[0m                                 Traceback (most recent call last)",
      "\u001b[0;32m/var/folders/v1/t149q84d20s60ktyxvb3bft40000gn/T/ipykernel_3285/1356616192.py\u001b[0m in \u001b[0;36m<module>\u001b[0;34m\u001b[0m\n\u001b[1;32m     36\u001b[0m }\n\u001b[1;32m     37\u001b[0m \u001b[0;34m\u001b[0m\u001b[0m\n\u001b[0;32m---> 38\u001b[0;31m \u001b[0mcrf_extractor\u001b[0m \u001b[0;34m=\u001b[0m \u001b[0mCRFExctractor\u001b[0m\u001b[0;34m(\u001b[0m\u001b[0mcomponent_config\u001b[0m\u001b[0;34m=\u001b[0m\u001b[0mcomponent_config\u001b[0m\u001b[0;34m)\u001b[0m\u001b[0;34m\u001b[0m\u001b[0;34m\u001b[0m\u001b[0m\n\u001b[0m\u001b[1;32m     39\u001b[0m \u001b[0mcrf_extractor\u001b[0m\u001b[0;34m\u001b[0m\u001b[0;34m\u001b[0m\u001b[0m\n",
      "\u001b[0;31mNameError\u001b[0m: name 'CRFExctractor' is not defined"
     ]
    }
   ],
   "source": [
    "from spacy_crfsuite import CRFExtractor\n",
    "\n",
    "component_config = {\n",
    "    \"features\": [\n",
    "        [\n",
    "            \"low\",\n",
    "            \"title\",\n",
    "            \"upper\",\n",
    "            \"pos\",\n",
    "            \"pos2\"\n",
    "        ],\n",
    "        [\n",
    "            \"low\",\n",
    "            \"bias\",\n",
    "            \"prefix5\",\n",
    "            \"prefix2\",\n",
    "            \"suffix5\",\n",
    "            \"suffix3\",\n",
    "            \"suffix2\",\n",
    "            \"upper\",\n",
    "            \"title\",\n",
    "            \"digit\",\n",
    "            \"pos\",\n",
    "            \"pos2\"\n",
    "        ],\n",
    "        [\n",
    "            \"low\",\n",
    "            \"title\",\n",
    "            \"upper\",\n",
    "            \"pos\",\n",
    "            \"pos2\"\n",
    "        ],\n",
    "    ],\n",
    "    \"c1\": 0.01,\n",
    "    \"c2\": 0.22\n",
    "}\n",
    "\n",
    "crf_extractor = CRFExtractor(component_config=component_config)\n",
    "crf_extractor"
   ]
  },
  {
   "cell_type": "code",
   "execution_count": 5,
   "metadata": {},
   "outputs": [
    {
     "data": {
      "text/plain": [
       "{'features': [['low', 'title', 'upper', 'pos', 'pos2'],\n",
       "  ['low',\n",
       "   'bias',\n",
       "   'prefix5',\n",
       "   'prefix2',\n",
       "   'suffix5',\n",
       "   'suffix3',\n",
       "   'suffix2',\n",
       "   'upper',\n",
       "   'title',\n",
       "   'digit',\n",
       "   'pos',\n",
       "   'pos2'],\n",
       "  ['low', 'title', 'upper', 'pos', 'pos2']],\n",
       " 'c1': 0.01,\n",
       " 'c2': 0.22}"
      ]
     },
     "execution_count": 5,
     "metadata": {},
     "output_type": "execute_result"
    }
   ],
   "source": [
    "component_config"
   ]
  },
  {
   "cell_type": "code",
   "execution_count": 6,
   "metadata": {},
   "outputs": [],
   "source": [
    "import spacy\n",
    "\n",
    "use_dense_features = crf_extractor.use_dense_features()\n",
    "nlp = spacy.load(\"en_core_web_md\")"
   ]
  },
  {
   "cell_type": "code",
   "execution_count": 7,
   "metadata": {},
   "outputs": [],
   "source": [
    "from tqdm.notebook import tqdm_notebook\n",
    "from spacy_crfsuite import read_file\n",
    "from spacy_crfsuite.train import gold_example_to_crf_tokens\n",
    "from spacy_crfsuite.tokenizer import SpacyTokenizer\n",
    "\n",
    "def read_examples(file, tokenizer, use_dense_features=False, limit=None):\n",
    "    examples = []\n",
    "    it = read_file(file)\n",
    "    it = it[:limit] if limit else it\n",
    "    for raw_example in tqdm_notebook(it, desc=file):\n",
    "        crf_example = gold_example_to_crf_tokens(\n",
    "            raw_example, \n",
    "            tokenizer=tokenizer, \n",
    "            use_dense_features=use_dense_features, \n",
    "            bilou=False\n",
    "        )\n",
    "        examples.append(crf_example)\n",
    "    return examples\n",
    "\n",
    "# Spacy tokenizer\n",
    "tokenizer = SpacyTokenizer(nlp)\n",
    "\n",
    "# OPTIONAL: fine-tune hyper-params\n",
    "# this is going to take a while, so you might need a coffee break ...\n",
    "dev_examples = None\n",
    "# dev_examples = read_examples(\"conll03/valid.conll\", tokenizer, use_dense_features=use_dense_features)\n",
    "\n",
    "if dev_examples:\n",
    "    rs = crf_extractor.fine_tune(dev_examples, cv=5, n_iter=30, random_state=42)\n",
    "    print(\"best params:\", rs.best_params_, \", score:\", rs.best_score_)\n",
    "    crf_extractor.component_config.update(rs.best_params_)"
   ]
  },
  {
   "cell_type": "code",
   "execution_count": 8,
   "metadata": {},
   "outputs": [
    {
     "data": {
      "application/vnd.jupyter.widget-view+json": {
       "model_id": "9c3727172b3543b6a0bb10654f386cab",
       "version_major": 2,
       "version_minor": 0
      },
      "text/plain": [
       "/Users/mazz/Documents/Programming/Python/Mini-Project/DataSet/Dataset2.txt:   0%|          | 0/14041 [00:00<?,…"
      ]
     },
     "metadata": {},
     "output_type": "display_data"
    },
    {
     "name": "stdout",
     "output_type": "stream",
     "text": [
      "CPU times: user 2 µs, sys: 1 µs, total: 3 µs\n",
      "Wall time: 8.82 µs\n"
     ]
    }
   ],
   "source": [
    "train_examples = read_examples(\"/Users/mazz/Documents/Programming/Python/Mini-Project/DataSet/Dataset2.txt\", tokenizer=tokenizer, use_dense_features=use_dense_features)\n",
    "\n",
    "crf_extractor.train(train_examples, dev_samples=dev_examples)\n",
    "%time"
   ]
  },
  {
   "cell_type": "code",
   "execution_count": 9,
   "metadata": {},
   "outputs": [
    {
     "data": {
      "application/vnd.jupyter.widget-view+json": {
       "model_id": "d2eb47f556294cc6b5a46859e5993e66",
       "version_major": 2,
       "version_minor": 0
      },
      "text/plain": [
       "/Users/mazz/Documents/Programming/Python/Mini-Project/DataSet/Dataset3.txt:   0%|          | 0/3453 [00:00<?, …"
      ]
     },
     "metadata": {},
     "output_type": "display_data"
    }
   ],
   "source": [
    "test_examples = read_examples(\"/Users/mazz/Documents/Programming/Python/Mini-Project/DataSet/Dataset3.txt\", tokenizer=tokenizer, use_dense_features=use_dense_features)"
   ]
  },
  {
   "cell_type": "code",
   "execution_count": 10,
   "metadata": {},
   "outputs": [
    {
     "name": "stdout",
     "output_type": "stream",
     "text": [
      "Most likely transitions:\n",
      "B-ORG      -> I-ORG      7.260039\n",
      "B-PER      -> I-PER      7.016621\n",
      "I-ORG      -> I-ORG      6.787570\n",
      "I-MISC     -> I-MISC     6.301491\n",
      "B-LOC      -> I-LOC      6.284100\n",
      "B-MISC     -> I-MISC     6.052984\n",
      "I-LOC      -> I-LOC      5.508632\n",
      "I-PER      -> I-PER      4.808802\n",
      "O          -> B-PER      3.496929\n",
      "O          -> O          2.778873\n",
      "\n",
      "Positive features:\n",
      "5.259367 O          0:bias:bias\n",
      "4.243087 O          0:suffix3:day\n",
      "3.915058 B-ORG      -1:low:v\n",
      "3.763559 B-PER      BOS\n",
      "3.526967 O          BOS\n",
      "3.258426 B-PER      0:prefix2:Mc\n",
      "3.239694 O          0:prefix2:W1\n",
      "3.103391 B-LOC      BOS\n",
      "3.099422 B-ORG      BOS\n",
      "2.878765 B-ORG      0:suffix5:shire\n"
     ]
    }
   ],
   "source": [
    "print(crf_extractor.explain())"
   ]
  },
  {
   "cell_type": "code",
   "execution_count": 11,
   "metadata": {},
   "outputs": [
    {
     "data": {
      "text/plain": [
       "{'low': <function spacy_crfsuite.crf_extractor.CRFExtractor.<lambda>(crf_token)>,\n",
       " 'title': <function spacy_crfsuite.crf_extractor.CRFExtractor.<lambda>(crf_token)>,\n",
       " 'prefix5': <function spacy_crfsuite.crf_extractor.CRFExtractor.<lambda>(crf_token)>,\n",
       " 'prefix2': <function spacy_crfsuite.crf_extractor.CRFExtractor.<lambda>(crf_token)>,\n",
       " 'suffix5': <function spacy_crfsuite.crf_extractor.CRFExtractor.<lambda>(crf_token)>,\n",
       " 'suffix3': <function spacy_crfsuite.crf_extractor.CRFExtractor.<lambda>(crf_token)>,\n",
       " 'suffix2': <function spacy_crfsuite.crf_extractor.CRFExtractor.<lambda>(crf_token)>,\n",
       " 'suffix1': <function spacy_crfsuite.crf_extractor.CRFExtractor.<lambda>(crf_token)>,\n",
       " 'bias': <function spacy_crfsuite.crf_extractor.CRFExtractor.<lambda>(crf_token)>,\n",
       " 'pos': <function spacy_crfsuite.crf_extractor.CRFExtractor.<lambda>(crf_token)>,\n",
       " 'pos2': <function spacy_crfsuite.crf_extractor.CRFExtractor.<lambda>(crf_token)>,\n",
       " 'upper': <function spacy_crfsuite.crf_extractor.CRFExtractor.<lambda>(crf_token)>,\n",
       " 'digit': <function spacy_crfsuite.crf_extractor.CRFExtractor.<lambda>(crf_token)>,\n",
       " 'shape': <function spacy_crfsuite.crf_extractor.CRFExtractor.<lambda>(crf_token)>,\n",
       " 'pattern': <function spacy_crfsuite.crf_extractor.CRFExtractor.<lambda>(crf_token)>,\n",
       " 'dense_features': <function spacy_crfsuite.crf_extractor.CRFExtractor.<lambda>(crf_token)>}"
      ]
     },
     "execution_count": 11,
     "metadata": {},
     "output_type": "execute_result"
    }
   ],
   "source": [
    "crf_extractor.function_dict"
   ]
  },
  {
   "cell_type": "code",
   "execution_count": 12,
   "metadata": {},
   "outputs": [
    {
     "name": "stdout",
     "output_type": "stream",
     "text": [
      "Help on method eval in module spacy_crfsuite.crf_extractor:\n",
      "\n",
      "eval(eval_samples: List[List[spacy_crfsuite.features.CRFToken]]) -> Optional[Tuple[Any, str]] method of spacy_crfsuite.crf_extractor.CRFExtractor instance\n",
      "    Evaluate the entity tagger on dev examples.\n",
      "    \n",
      "    Args:\n",
      "        eval_samples (list): list of dev examples.\n",
      "    \n",
      "    Returns:\n",
      "        (f1_score<float>, classification_report<str>)\n",
      "\n"
     ]
    }
   ],
   "source": [
    "help(crf_extractor.eval)"
   ]
  },
  {
   "cell_type": "code",
   "execution_count": 13,
   "metadata": {},
   "outputs": [],
   "source": [
    "#!pip uninstall sklearn-crfsuite"
   ]
  },
  {
   "cell_type": "code",
   "execution_count": 14,
   "metadata": {},
   "outputs": [],
   "source": [
    "#!pip install git+https://github.com/MeMartijn/updated-sklearn-crfsuite.git#egg=sklearn_crfsuite"
   ]
  },
  {
   "cell_type": "code",
   "execution_count": 15,
   "metadata": {},
   "outputs": [
    {
     "name": "stdout",
     "output_type": "stream",
     "text": [
      "0.8243772996833281\n",
      "              precision    recall  f1-score   support\n",
      "\n",
      "       B-LOC      0.851     0.889     0.870      1593\n",
      "       I-LOC      0.747     0.713     0.729       240\n",
      "      B-MISC      0.839     0.769     0.803       719\n",
      "      I-MISC      0.670     0.611     0.639       229\n",
      "       B-ORG      0.829     0.717     0.769      1699\n",
      "       I-ORG      0.745     0.724     0.734       863\n",
      "       B-PER      0.861     0.872     0.866      1593\n",
      "       I-PER      0.892     0.963     0.926      1121\n",
      "\n",
      "   micro avg      0.835     0.818     0.827      8057\n",
      "   macro avg      0.804     0.782     0.792      8057\n",
      "weighted avg      0.833     0.818     0.824      8057\n",
      "\n"
     ]
    }
   ],
   "source": [
    "for item in crf_extractor.eval(test_examples):\n",
    "    print(item)"
   ]
  },
  {
   "cell_type": "code",
   "execution_count": 27,
   "metadata": {},
   "outputs": [
    {
     "data": {
      "text/plain": [
       "tuple"
      ]
     },
     "execution_count": 27,
     "metadata": {},
     "output_type": "execute_result"
    }
   ],
   "source": [
    "type(crf_extractor.eval(test_examples))"
   ]
  },
  {
   "cell_type": "code",
   "execution_count": 31,
   "metadata": {},
   "outputs": [
    {
     "data": {
      "text/plain": [
       "str"
      ]
     },
     "execution_count": 31,
     "metadata": {},
     "output_type": "execute_result"
    }
   ],
   "source": [
    "type(crf_extractor.eval(test_examples)[1])"
   ]
  },
  {
   "cell_type": "code",
   "execution_count": 25,
   "metadata": {},
   "outputs": [
    {
     "name": "stdout",
     "output_type": "stream",
     "text": [
      "<class 'numpy.float64'>\n",
      "<class 'str'>\n"
     ]
    }
   ],
   "source": [
    "for item in crf_extractor.eval(test_examples):\n",
    "    print(type(item))"
   ]
  },
  {
   "cell_type": "code",
   "execution_count": 16,
   "metadata": {},
   "outputs": [
    {
     "data": {
      "text/plain": [
       "['spacy_crfsuite_trained_spacy3.bz2']"
      ]
     },
     "execution_count": 16,
     "metadata": {},
     "output_type": "execute_result"
    }
   ],
   "source": [
    "import joblib\n",
    "joblib.dump(crf_extractor, filename='spacy_crfsuite_trained_spacy3.bz2')"
   ]
  },
  {
   "cell_type": "code",
   "execution_count": null,
   "metadata": {},
   "outputs": [],
   "source": [
    "#!pip uninstall spacy_crfsuite"
   ]
  },
  {
   "cell_type": "code",
   "execution_count": 18,
   "metadata": {},
   "outputs": [],
   "source": [
    "#!pip install spacy_crfsuite"
   ]
  },
  {
   "cell_type": "code",
   "execution_count": 19,
   "metadata": {},
   "outputs": [],
   "source": [
    "#!pip install git+git://github.com/talmago/spacy_crfsuite.git@master"
   ]
  },
  {
   "cell_type": "code",
   "execution_count": 20,
   "metadata": {},
   "outputs": [
    {
     "ename": "AssertionError",
     "evalue": "",
     "output_type": "error",
     "traceback": [
      "\u001b[0;31m---------------------------------------------------------------------------\u001b[0m",
      "\u001b[0;31mAssertionError\u001b[0m                            Traceback (most recent call last)",
      "\u001b[0;32m/var/folders/v1/t149q84d20s60ktyxvb3bft40000gn/T/ipykernel_3285/3378811215.py\u001b[0m in \u001b[0;36m<module>\u001b[0;34m\u001b[0m\n\u001b[1;32m     12\u001b[0m \u001b[0;34m\u001b[0m\u001b[0m\n\u001b[1;32m     13\u001b[0m \u001b[0mnlp\u001b[0m \u001b[0;34m=\u001b[0m \u001b[0mspacy\u001b[0m\u001b[0;34m.\u001b[0m\u001b[0mload\u001b[0m\u001b[0;34m(\u001b[0m\u001b[0;34m\"en_core_web_md\"\u001b[0m\u001b[0;34m,\u001b[0m \u001b[0mdisable\u001b[0m\u001b[0;34m=\u001b[0m\u001b[0;34m[\u001b[0m\u001b[0;34m\"ner\"\u001b[0m\u001b[0;34m]\u001b[0m\u001b[0;34m)\u001b[0m\u001b[0;34m\u001b[0m\u001b[0;34m\u001b[0m\u001b[0m\n\u001b[0;32m---> 14\u001b[0;31m \u001b[0mnlp\u001b[0m\u001b[0;34m.\u001b[0m\u001b[0madd_pipe\u001b[0m\u001b[0;34m(\u001b[0m\u001b[0;34m\"ner-crf-3\"\u001b[0m\u001b[0;34m)\u001b[0m\u001b[0;34m\u001b[0m\u001b[0;34m\u001b[0m\u001b[0m\n\u001b[0m\u001b[1;32m     15\u001b[0m \u001b[0;34m\u001b[0m\u001b[0m\n\u001b[1;32m     16\u001b[0m doc = nlp(\n",
      "\u001b[0;32m~/opt/anaconda3/envs/mini_project_spacy3/lib/python3.9/site-packages/spacy/language.py\u001b[0m in \u001b[0;36madd_pipe\u001b[0;34m(self, factory_name, name, before, after, first, last, source, config, raw_config, validate)\u001b[0m\n\u001b[1;32m    793\u001b[0m                     \u001b[0mlang_code\u001b[0m\u001b[0;34m=\u001b[0m\u001b[0mself\u001b[0m\u001b[0;34m.\u001b[0m\u001b[0mlang\u001b[0m\u001b[0;34m,\u001b[0m\u001b[0;34m\u001b[0m\u001b[0;34m\u001b[0m\u001b[0m\n\u001b[1;32m    794\u001b[0m                 )\n\u001b[0;32m--> 795\u001b[0;31m             pipe_component = self.create_pipe(\n\u001b[0m\u001b[1;32m    796\u001b[0m                 \u001b[0mfactory_name\u001b[0m\u001b[0;34m,\u001b[0m\u001b[0;34m\u001b[0m\u001b[0;34m\u001b[0m\u001b[0m\n\u001b[1;32m    797\u001b[0m                 \u001b[0mname\u001b[0m\u001b[0;34m=\u001b[0m\u001b[0mname\u001b[0m\u001b[0;34m,\u001b[0m\u001b[0;34m\u001b[0m\u001b[0;34m\u001b[0m\u001b[0m\n",
      "\u001b[0;32m~/opt/anaconda3/envs/mini_project_spacy3/lib/python3.9/site-packages/spacy/language.py\u001b[0m in \u001b[0;36mcreate_pipe\u001b[0;34m(self, factory_name, name, config, raw_config, validate)\u001b[0m\n\u001b[1;32m    672\u001b[0m         \u001b[0;31m# We're calling the internal _fill here to avoid constructing the\u001b[0m\u001b[0;34m\u001b[0m\u001b[0;34m\u001b[0m\u001b[0m\n\u001b[1;32m    673\u001b[0m         \u001b[0;31m# registered functions twice\u001b[0m\u001b[0;34m\u001b[0m\u001b[0;34m\u001b[0m\u001b[0m\n\u001b[0;32m--> 674\u001b[0;31m         \u001b[0mresolved\u001b[0m \u001b[0;34m=\u001b[0m \u001b[0mregistry\u001b[0m\u001b[0;34m.\u001b[0m\u001b[0mresolve\u001b[0m\u001b[0;34m(\u001b[0m\u001b[0mcfg\u001b[0m\u001b[0;34m,\u001b[0m \u001b[0mvalidate\u001b[0m\u001b[0;34m=\u001b[0m\u001b[0mvalidate\u001b[0m\u001b[0;34m)\u001b[0m\u001b[0;34m\u001b[0m\u001b[0;34m\u001b[0m\u001b[0m\n\u001b[0m\u001b[1;32m    675\u001b[0m         \u001b[0mfilled\u001b[0m \u001b[0;34m=\u001b[0m \u001b[0mregistry\u001b[0m\u001b[0;34m.\u001b[0m\u001b[0mfill\u001b[0m\u001b[0;34m(\u001b[0m\u001b[0;34m{\u001b[0m\u001b[0;34m\"cfg\"\u001b[0m\u001b[0;34m:\u001b[0m \u001b[0mcfg\u001b[0m\u001b[0;34m[\u001b[0m\u001b[0mfactory_name\u001b[0m\u001b[0;34m]\u001b[0m\u001b[0;34m}\u001b[0m\u001b[0;34m,\u001b[0m \u001b[0mvalidate\u001b[0m\u001b[0;34m=\u001b[0m\u001b[0mvalidate\u001b[0m\u001b[0;34m)\u001b[0m\u001b[0;34m[\u001b[0m\u001b[0;34m\"cfg\"\u001b[0m\u001b[0;34m]\u001b[0m\u001b[0;34m\u001b[0m\u001b[0;34m\u001b[0m\u001b[0m\n\u001b[1;32m    676\u001b[0m         \u001b[0mfilled\u001b[0m \u001b[0;34m=\u001b[0m \u001b[0mConfig\u001b[0m\u001b[0;34m(\u001b[0m\u001b[0mfilled\u001b[0m\u001b[0;34m)\u001b[0m\u001b[0;34m\u001b[0m\u001b[0;34m\u001b[0m\u001b[0m\n",
      "\u001b[0;32m~/opt/anaconda3/envs/mini_project_spacy3/lib/python3.9/site-packages/confection/__init__.py\u001b[0m in \u001b[0;36mresolve\u001b[0;34m(cls, config, schema, overrides, validate)\u001b[0m\n\u001b[1;32m    726\u001b[0m         \u001b[0mvalidate\u001b[0m\u001b[0;34m:\u001b[0m \u001b[0mbool\u001b[0m \u001b[0;34m=\u001b[0m \u001b[0;32mTrue\u001b[0m\u001b[0;34m,\u001b[0m\u001b[0;34m\u001b[0m\u001b[0;34m\u001b[0m\u001b[0m\n\u001b[1;32m    727\u001b[0m     ) -> Dict[str, Any]:\n\u001b[0;32m--> 728\u001b[0;31m         resolved, _ = cls._make(\n\u001b[0m\u001b[1;32m    729\u001b[0m             \u001b[0mconfig\u001b[0m\u001b[0;34m,\u001b[0m \u001b[0mschema\u001b[0m\u001b[0;34m=\u001b[0m\u001b[0mschema\u001b[0m\u001b[0;34m,\u001b[0m \u001b[0moverrides\u001b[0m\u001b[0;34m=\u001b[0m\u001b[0moverrides\u001b[0m\u001b[0;34m,\u001b[0m \u001b[0mvalidate\u001b[0m\u001b[0;34m=\u001b[0m\u001b[0mvalidate\u001b[0m\u001b[0;34m,\u001b[0m \u001b[0mresolve\u001b[0m\u001b[0;34m=\u001b[0m\u001b[0;32mTrue\u001b[0m\u001b[0;34m\u001b[0m\u001b[0;34m\u001b[0m\u001b[0m\n\u001b[1;32m    730\u001b[0m         )\n",
      "\u001b[0;32m~/opt/anaconda3/envs/mini_project_spacy3/lib/python3.9/site-packages/confection/__init__.py\u001b[0m in \u001b[0;36m_make\u001b[0;34m(cls, config, schema, overrides, resolve, validate)\u001b[0m\n\u001b[1;32m    775\u001b[0m         \u001b[0;32mif\u001b[0m \u001b[0;32mnot\u001b[0m \u001b[0mis_interpolated\u001b[0m\u001b[0;34m:\u001b[0m\u001b[0;34m\u001b[0m\u001b[0;34m\u001b[0m\u001b[0m\n\u001b[1;32m    776\u001b[0m             \u001b[0mconfig\u001b[0m \u001b[0;34m=\u001b[0m \u001b[0mConfig\u001b[0m\u001b[0;34m(\u001b[0m\u001b[0morig_config\u001b[0m\u001b[0;34m)\u001b[0m\u001b[0;34m.\u001b[0m\u001b[0minterpolate\u001b[0m\u001b[0;34m(\u001b[0m\u001b[0;34m)\u001b[0m\u001b[0;34m\u001b[0m\u001b[0;34m\u001b[0m\u001b[0m\n\u001b[0;32m--> 777\u001b[0;31m         filled, _, resolved = cls._fill(\n\u001b[0m\u001b[1;32m    778\u001b[0m             \u001b[0mconfig\u001b[0m\u001b[0;34m,\u001b[0m \u001b[0mschema\u001b[0m\u001b[0;34m,\u001b[0m \u001b[0mvalidate\u001b[0m\u001b[0;34m=\u001b[0m\u001b[0mvalidate\u001b[0m\u001b[0;34m,\u001b[0m \u001b[0moverrides\u001b[0m\u001b[0;34m=\u001b[0m\u001b[0moverrides\u001b[0m\u001b[0;34m,\u001b[0m \u001b[0mresolve\u001b[0m\u001b[0;34m=\u001b[0m\u001b[0mresolve\u001b[0m\u001b[0;34m\u001b[0m\u001b[0;34m\u001b[0m\u001b[0m\n\u001b[1;32m    779\u001b[0m         )\n",
      "\u001b[0;32m~/opt/anaconda3/envs/mini_project_spacy3/lib/python3.9/site-packages/confection/__init__.py\u001b[0m in \u001b[0;36m_fill\u001b[0;34m(cls, config, schema, validate, resolve, parent, overrides)\u001b[0m\n\u001b[1;32m    847\u001b[0m                     \u001b[0;31m# We don't want to try/except this and raise our own error\u001b[0m\u001b[0;34m\u001b[0m\u001b[0;34m\u001b[0m\u001b[0m\n\u001b[1;32m    848\u001b[0m                     \u001b[0;31m# here, because we want the traceback if the function fails.\u001b[0m\u001b[0;34m\u001b[0m\u001b[0;34m\u001b[0m\u001b[0m\n\u001b[0;32m--> 849\u001b[0;31m                     \u001b[0mgetter_result\u001b[0m \u001b[0;34m=\u001b[0m \u001b[0mgetter\u001b[0m\u001b[0;34m(\u001b[0m\u001b[0;34m*\u001b[0m\u001b[0margs\u001b[0m\u001b[0;34m,\u001b[0m \u001b[0;34m**\u001b[0m\u001b[0mkwargs\u001b[0m\u001b[0;34m)\u001b[0m\u001b[0;34m\u001b[0m\u001b[0;34m\u001b[0m\u001b[0m\n\u001b[0m\u001b[1;32m    850\u001b[0m                 \u001b[0;32melse\u001b[0m\u001b[0;34m:\u001b[0m\u001b[0;34m\u001b[0m\u001b[0;34m\u001b[0m\u001b[0m\n\u001b[1;32m    851\u001b[0m                     \u001b[0;31m# We're not resolving and calling the function, so replace\u001b[0m\u001b[0;34m\u001b[0m\u001b[0;34m\u001b[0m\u001b[0m\n",
      "\u001b[0;32m/var/folders/v1/t149q84d20s60ktyxvb3bft40000gn/T/ipykernel_3285/3378811215.py\u001b[0m in \u001b[0;36mcreate_my_component\u001b[0;34m(nlp, name)\u001b[0m\n\u001b[1;32m      7\u001b[0m \u001b[0;34m@\u001b[0m\u001b[0mLanguage\u001b[0m\u001b[0;34m.\u001b[0m\u001b[0mfactory\u001b[0m\u001b[0;34m(\u001b[0m\u001b[0;34m\"ner-crf-3\"\u001b[0m\u001b[0;34m)\u001b[0m\u001b[0;34m\u001b[0m\u001b[0;34m\u001b[0m\u001b[0m\n\u001b[1;32m      8\u001b[0m \u001b[0;32mdef\u001b[0m \u001b[0mcreate_my_component\u001b[0m\u001b[0;34m(\u001b[0m\u001b[0mnlp\u001b[0m\u001b[0;34m,\u001b[0m \u001b[0mname\u001b[0m\u001b[0;34m)\u001b[0m\u001b[0;34m:\u001b[0m\u001b[0;34m\u001b[0m\u001b[0;34m\u001b[0m\u001b[0m\n\u001b[0;32m----> 9\u001b[0;31m     \u001b[0mcrf_extractor\u001b[0m \u001b[0;34m=\u001b[0m \u001b[0mCRFExtractor\u001b[0m\u001b[0;34m(\u001b[0m\u001b[0;34m)\u001b[0m\u001b[0;34m.\u001b[0m\u001b[0mfrom_disk\u001b[0m\u001b[0;34m(\u001b[0m\u001b[0;34m\"spacy_crfsuite_trained_spacy3.bz2\"\u001b[0m\u001b[0;34m)\u001b[0m\u001b[0;34m\u001b[0m\u001b[0;34m\u001b[0m\u001b[0m\n\u001b[0m\u001b[1;32m     10\u001b[0m     \u001b[0;32mreturn\u001b[0m \u001b[0mCRFEntityExtractor\u001b[0m\u001b[0;34m(\u001b[0m\u001b[0mnlp\u001b[0m\u001b[0;34m,\u001b[0m \u001b[0mcrf_extractor\u001b[0m\u001b[0;34m=\u001b[0m\u001b[0mcrf_extractor\u001b[0m\u001b[0;34m)\u001b[0m\u001b[0;34m\u001b[0m\u001b[0;34m\u001b[0m\u001b[0m\n\u001b[1;32m     11\u001b[0m \u001b[0;34m\u001b[0m\u001b[0m\n",
      "\u001b[0;32m~/opt/anaconda3/envs/mini_project_spacy3/lib/python3.9/site-packages/spacy_crfsuite/crf_extractor.py\u001b[0m in \u001b[0;36mfrom_disk\u001b[0;34m(self, path)\u001b[0m\n\u001b[1;32m     99\u001b[0m         \"\"\"\n\u001b[1;32m    100\u001b[0m         \u001b[0ment_tagger\u001b[0m \u001b[0;34m=\u001b[0m \u001b[0mjoblib\u001b[0m\u001b[0;34m.\u001b[0m\u001b[0mload\u001b[0m\u001b[0;34m(\u001b[0m\u001b[0mpath\u001b[0m\u001b[0;34m)\u001b[0m\u001b[0;34m\u001b[0m\u001b[0;34m\u001b[0m\u001b[0m\n\u001b[0;32m--> 101\u001b[0;31m         \u001b[0;32massert\u001b[0m \u001b[0misinstance\u001b[0m\u001b[0;34m(\u001b[0m\u001b[0ment_tagger\u001b[0m\u001b[0;34m,\u001b[0m \u001b[0mCRF\u001b[0m\u001b[0;34m)\u001b[0m\u001b[0;34m\u001b[0m\u001b[0;34m\u001b[0m\u001b[0m\n\u001b[0m\u001b[1;32m    102\u001b[0m \u001b[0;34m\u001b[0m\u001b[0m\n\u001b[1;32m    103\u001b[0m         \u001b[0mself\u001b[0m\u001b[0;34m.\u001b[0m\u001b[0ment_tagger\u001b[0m \u001b[0;34m=\u001b[0m \u001b[0ment_tagger\u001b[0m\u001b[0;34m\u001b[0m\u001b[0;34m\u001b[0m\u001b[0m\n",
      "\u001b[0;31mAssertionError\u001b[0m: "
     ]
    }
   ],
   "source": [
    "from unicodedata import name\n",
    "import spacy\n",
    "from spacy.language import Language\n",
    "\n",
    "from spacy_crfsuite import CRFEntityExtractor, CRFExtractor\n",
    "\n",
    "@Language.factory(\"ner-crf-3\")\n",
    "def create_my_component(nlp, name):\n",
    "    crf_extractor = CRFExtractor().from_disk(\"spacy_crfsuite_trained_spacy3.bz2\")\n",
    "    return CRFEntityExtractor(nlp, crf_extractor=crf_extractor)\n",
    "\n",
    "\n",
    "nlp = spacy.load(\"en_core_web_md\", disable=[\"ner\"])\n",
    "nlp.add_pipe(\"ner-crf-3\")\n",
    "\n",
    "doc = nlp(\n",
    "    \"George Walker Bush (born July 6, 1946) is an American politician and businessman \"\n",
    "    \"who served as the 43rd president of the United States from 2001 to 2009.\")\n",
    "\n",
    "for ent in doc.ents:\n",
    "    print(ent, \"-\", ent.label_)"
   ]
  },
  {
   "cell_type": "markdown",
   "metadata": {},
   "source": [
    "### New ways of fitting into the pipeline"
   ]
  },
  {
   "cell_type": "code",
   "execution_count": 23,
   "metadata": {},
   "outputs": [
    {
     "name": "stdout",
     "output_type": "stream",
     "text": [
      "George Walker Bush - PER\n",
      "American - MISC\n",
      "United States - LOC\n"
     ]
    },
    {
     "name": "stderr",
     "output_type": "stream",
     "text": [
      "/Users/mazz/opt/anaconda3/envs/mini_project_spacy3/lib/python3.9/site-packages/spacy_crfsuite/crf_extractor.py:390: UserWarning: Inconsistent BILOU tagging found, B- tag, L- tag pair encloses multiple entity classes.i.e. [B-a, I-b, L-a] instead of [B-a, I-a, L-a].\n",
      "Assuming B- class is correct.\n",
      "  warnings.warn(\n",
      "/Users/mazz/opt/anaconda3/envs/mini_project_spacy3/lib/python3.9/site-packages/spacy_crfsuite/crf_extractor.py:407: UserWarning: Inconsistent BILOU tagging found, B- tag not closed by L- tag, i.e [B-a, I-a, O] instead of [B-a, L-a, O].\n",
      "Assuming last tag is L-\n",
      "  warnings.warn(\n"
     ]
    }
   ],
   "source": [
    "import spacy\n",
    "from spacy.language import Language\n",
    "from spacy_crfsuite import CRFEntityExtractor\n",
    "\n",
    "@Language.factory(\"ner-crf-1\") # give a name to the new factory (unique)\n",
    "def create_my_component(nlp, name):\n",
    "    #crf_extractor = CRFExtractor().from_disk(\"path-to-model\")\n",
    "    pipe = CRFEntityExtractor(nlp, crf_extractor=crf_extractor) # convert crf model into spacy pipeline component\n",
    "    return pipe\n",
    "\n",
    "nlp = spacy.load(\"en_core_web_md\", disable=[\"ner\"]) # load model without ner\n",
    "nlp.add_pipe(\"ner-crf-1\") # add to the pipe\n",
    "\n",
    "# And use natively ..\n",
    "doc = nlp(\n",
    "    \"George Walker Bush (born July 6, 1946) is an American politician and businessman \"\n",
    "    \"who served as the 43rd president of the United States from 2001 to 2009.\")\n",
    "\n",
    "for ent in doc.ents:\n",
    "    print(ent, \"-\", ent.label_)"
   ]
  },
  {
   "cell_type": "code",
   "execution_count": 9,
   "metadata": {},
   "outputs": [],
   "source": [
    "import spacy\n",
    "\n",
    "nlp = spacy.load('/Users/mazz/Documents/Programming/Python/Mini-Project/Script/Fastext_models3')"
   ]
  },
  {
   "cell_type": "code",
   "execution_count": 13,
   "metadata": {},
   "outputs": [
    {
     "name": "stdout",
     "output_type": "stream",
     "text": [
      "Collecting en-core-web-sm==3.4.1\n",
      "  Downloading https://github.com/explosion/spacy-models/releases/download/en_core_web_sm-3.4.1/en_core_web_sm-3.4.1-py3-none-any.whl (12.8 MB)\n",
      "\u001b[2K     \u001b[90m━━━━━━━━━━━━━━━━━━━━━━━━━━━━━━━━━━━━━━━━\u001b[0m \u001b[32m12.8/12.8 MB\u001b[0m \u001b[31m3.5 MB/s\u001b[0m eta \u001b[36m0:00:00\u001b[0m00:01\u001b[0m00:01\u001b[0m\n",
      "\u001b[?25hRequirement already satisfied: spacy<3.5.0,>=3.4.0 in /Users/mazz/opt/anaconda3/envs/mini_project_spacy3/lib/python3.9/site-packages (from en-core-web-sm==3.4.1) (3.4.1)\n",
      "Requirement already satisfied: pydantic!=1.8,!=1.8.1,<1.10.0,>=1.7.4 in /Users/mazz/opt/anaconda3/envs/mini_project_spacy3/lib/python3.9/site-packages (from spacy<3.5.0,>=3.4.0->en-core-web-sm==3.4.1) (1.9.2)\n",
      "Requirement already satisfied: pathy>=0.3.5 in /Users/mazz/opt/anaconda3/envs/mini_project_spacy3/lib/python3.9/site-packages (from spacy<3.5.0,>=3.4.0->en-core-web-sm==3.4.1) (0.6.2)\n",
      "Requirement already satisfied: spacy-legacy<3.1.0,>=3.0.9 in /Users/mazz/opt/anaconda3/envs/mini_project_spacy3/lib/python3.9/site-packages (from spacy<3.5.0,>=3.4.0->en-core-web-sm==3.4.1) (3.0.10)\n",
      "Requirement already satisfied: spacy-loggers<2.0.0,>=1.0.0 in /Users/mazz/opt/anaconda3/envs/mini_project_spacy3/lib/python3.9/site-packages (from spacy<3.5.0,>=3.4.0->en-core-web-sm==3.4.1) (1.0.3)\n",
      "Requirement already satisfied: thinc<8.2.0,>=8.1.0 in /Users/mazz/opt/anaconda3/envs/mini_project_spacy3/lib/python3.9/site-packages (from spacy<3.5.0,>=3.4.0->en-core-web-sm==3.4.1) (8.1.3)\n",
      "Requirement already satisfied: wasabi<1.1.0,>=0.9.1 in /Users/mazz/opt/anaconda3/envs/mini_project_spacy3/lib/python3.9/site-packages (from spacy<3.5.0,>=3.4.0->en-core-web-sm==3.4.1) (0.10.0)\n",
      "Requirement already satisfied: srsly<3.0.0,>=2.4.3 in /Users/mazz/opt/anaconda3/envs/mini_project_spacy3/lib/python3.9/site-packages (from spacy<3.5.0,>=3.4.0->en-core-web-sm==3.4.1) (2.4.4)\n",
      "Requirement already satisfied: setuptools in /Users/mazz/opt/anaconda3/envs/mini_project_spacy3/lib/python3.9/site-packages (from spacy<3.5.0,>=3.4.0->en-core-web-sm==3.4.1) (63.4.1)\n",
      "Requirement already satisfied: langcodes<4.0.0,>=3.2.0 in /Users/mazz/opt/anaconda3/envs/mini_project_spacy3/lib/python3.9/site-packages (from spacy<3.5.0,>=3.4.0->en-core-web-sm==3.4.1) (3.3.0)\n",
      "Requirement already satisfied: numpy>=1.15.0 in /Users/mazz/opt/anaconda3/envs/mini_project_spacy3/lib/python3.9/site-packages (from spacy<3.5.0,>=3.4.0->en-core-web-sm==3.4.1) (1.21.5)\n",
      "Requirement already satisfied: catalogue<2.1.0,>=2.0.6 in /Users/mazz/opt/anaconda3/envs/mini_project_spacy3/lib/python3.9/site-packages (from spacy<3.5.0,>=3.4.0->en-core-web-sm==3.4.1) (2.0.8)\n",
      "Requirement already satisfied: preshed<3.1.0,>=3.0.2 in /Users/mazz/opt/anaconda3/envs/mini_project_spacy3/lib/python3.9/site-packages (from spacy<3.5.0,>=3.4.0->en-core-web-sm==3.4.1) (3.0.8)\n",
      "Requirement already satisfied: packaging>=20.0 in /Users/mazz/opt/anaconda3/envs/mini_project_spacy3/lib/python3.9/site-packages (from spacy<3.5.0,>=3.4.0->en-core-web-sm==3.4.1) (21.3)\n",
      "Requirement already satisfied: jinja2 in /Users/mazz/opt/anaconda3/envs/mini_project_spacy3/lib/python3.9/site-packages (from spacy<3.5.0,>=3.4.0->en-core-web-sm==3.4.1) (3.0.3)\n",
      "Requirement already satisfied: cymem<2.1.0,>=2.0.2 in /Users/mazz/opt/anaconda3/envs/mini_project_spacy3/lib/python3.9/site-packages (from spacy<3.5.0,>=3.4.0->en-core-web-sm==3.4.1) (2.0.7)\n",
      "Requirement already satisfied: requests<3.0.0,>=2.13.0 in /Users/mazz/opt/anaconda3/envs/mini_project_spacy3/lib/python3.9/site-packages (from spacy<3.5.0,>=3.4.0->en-core-web-sm==3.4.1) (2.28.1)\n",
      "Requirement already satisfied: tqdm<5.0.0,>=4.38.0 in /Users/mazz/opt/anaconda3/envs/mini_project_spacy3/lib/python3.9/site-packages (from spacy<3.5.0,>=3.4.0->en-core-web-sm==3.4.1) (4.64.1)\n",
      "Requirement already satisfied: murmurhash<1.1.0,>=0.28.0 in /Users/mazz/opt/anaconda3/envs/mini_project_spacy3/lib/python3.9/site-packages (from spacy<3.5.0,>=3.4.0->en-core-web-sm==3.4.1) (1.0.9)\n",
      "Requirement already satisfied: typer<0.5.0,>=0.3.0 in /Users/mazz/opt/anaconda3/envs/mini_project_spacy3/lib/python3.9/site-packages (from spacy<3.5.0,>=3.4.0->en-core-web-sm==3.4.1) (0.4.2)\n",
      "Requirement already satisfied: pyparsing!=3.0.5,>=2.0.2 in /Users/mazz/opt/anaconda3/envs/mini_project_spacy3/lib/python3.9/site-packages (from packaging>=20.0->spacy<3.5.0,>=3.4.0->en-core-web-sm==3.4.1) (3.0.9)\n",
      "Requirement already satisfied: smart-open<6.0.0,>=5.2.1 in /Users/mazz/opt/anaconda3/envs/mini_project_spacy3/lib/python3.9/site-packages (from pathy>=0.3.5->spacy<3.5.0,>=3.4.0->en-core-web-sm==3.4.1) (5.2.1)\n",
      "Requirement already satisfied: typing-extensions>=3.7.4.3 in /Users/mazz/opt/anaconda3/envs/mini_project_spacy3/lib/python3.9/site-packages (from pydantic!=1.8,!=1.8.1,<1.10.0,>=1.7.4->spacy<3.5.0,>=3.4.0->en-core-web-sm==3.4.1) (4.3.0)\n",
      "Requirement already satisfied: idna<4,>=2.5 in /Users/mazz/opt/anaconda3/envs/mini_project_spacy3/lib/python3.9/site-packages (from requests<3.0.0,>=2.13.0->spacy<3.5.0,>=3.4.0->en-core-web-sm==3.4.1) (3.3)\n",
      "Requirement already satisfied: urllib3<1.27,>=1.21.1 in /Users/mazz/opt/anaconda3/envs/mini_project_spacy3/lib/python3.9/site-packages (from requests<3.0.0,>=2.13.0->spacy<3.5.0,>=3.4.0->en-core-web-sm==3.4.1) (1.26.11)\n",
      "Requirement already satisfied: certifi>=2017.4.17 in /Users/mazz/opt/anaconda3/envs/mini_project_spacy3/lib/python3.9/site-packages (from requests<3.0.0,>=2.13.0->spacy<3.5.0,>=3.4.0->en-core-web-sm==3.4.1) (2022.9.24)\n",
      "Requirement already satisfied: charset-normalizer<3,>=2 in /Users/mazz/opt/anaconda3/envs/mini_project_spacy3/lib/python3.9/site-packages (from requests<3.0.0,>=2.13.0->spacy<3.5.0,>=3.4.0->en-core-web-sm==3.4.1) (2.0.4)\n",
      "Requirement already satisfied: blis<0.8.0,>=0.7.8 in /Users/mazz/opt/anaconda3/envs/mini_project_spacy3/lib/python3.9/site-packages (from thinc<8.2.0,>=8.1.0->spacy<3.5.0,>=3.4.0->en-core-web-sm==3.4.1) (0.7.8)\n",
      "Requirement already satisfied: confection<1.0.0,>=0.0.1 in /Users/mazz/opt/anaconda3/envs/mini_project_spacy3/lib/python3.9/site-packages (from thinc<8.2.0,>=8.1.0->spacy<3.5.0,>=3.4.0->en-core-web-sm==3.4.1) (0.0.3)\n",
      "Requirement already satisfied: click<9.0.0,>=7.1.1 in /Users/mazz/opt/anaconda3/envs/mini_project_spacy3/lib/python3.9/site-packages (from typer<0.5.0,>=0.3.0->spacy<3.5.0,>=3.4.0->en-core-web-sm==3.4.1) (8.0.4)\n",
      "Requirement already satisfied: MarkupSafe>=2.0 in /Users/mazz/opt/anaconda3/envs/mini_project_spacy3/lib/python3.9/site-packages (from jinja2->spacy<3.5.0,>=3.4.0->en-core-web-sm==3.4.1) (2.1.1)\n",
      "Installing collected packages: en-core-web-sm\n",
      "Successfully installed en-core-web-sm-3.4.1\n",
      "\u001b[38;5;2m✔ Download and installation successful\u001b[0m\n",
      "You can now load the package via spacy.load('en_core_web_sm')\n"
     ]
    }
   ],
   "source": [
    "!python -m spacy download en_core_web_sm"
   ]
  },
  {
   "cell_type": "code",
   "execution_count": 16,
   "metadata": {},
   "outputs": [],
   "source": [
    "main_nlp = spacy.load('en_core_web_sm', disable=['ner'])"
   ]
  },
  {
   "cell_type": "code",
   "execution_count": 17,
   "metadata": {},
   "outputs": [
    {
     "data": {
      "text/plain": [
       "['tok2vec', 'tagger', 'parser', 'attribute_ruler', 'lemmatizer']"
      ]
     },
     "execution_count": 17,
     "metadata": {},
     "output_type": "execute_result"
    }
   ],
   "source": [
    "main_nlp.pipe_names"
   ]
  },
  {
   "cell_type": "code",
   "execution_count": 24,
   "metadata": {},
   "outputs": [
    {
     "name": "stdout",
     "output_type": "stream",
     "text": [
      "['tok2vec']\n",
      "['tok2vec', 'tagger']\n",
      "['tok2vec', 'tagger', 'parser']\n",
      "['tok2vec', 'tagger', 'parser', 'attribute_ruler']\n",
      "['tok2vec', 'tagger', 'parser', 'attribute_ruler', 'lemmatizer']\n",
      "['tok2vec', 'tagger', 'parser', 'attribute_ruler', 'lemmatizer', 'ner']\n"
     ]
    }
   ],
   "source": [
    "import spacy\n",
    "\n",
    "pipes = ['tok2vec', 'tagger', 'parser', 'attribute_ruler', 'lemmatizer', 'ner']\n",
    "\n",
    "# load the model\n",
    "def build_spacy3_pipeline(pipes):\n",
    "    # create a blank spacy model\n",
    "    nlp = spacy.load('/Users/mazz/Documents/Programming/Python/Mini-Project/Script/Fastext_models3')\n",
    "    # create a reference model\n",
    "    nlp_ref = spacy.load('en_core_web_md')\n",
    "    for pipe in pipes:\n",
    "        nlp.add_pipe(pipe)\n",
    "        print(nlp.pipe_names)\n",
    "\n",
    "build_spacy3_pipeline(pipes=pipes)"
   ]
  },
  {
   "cell_type": "code",
   "execution_count": 25,
   "metadata": {},
   "outputs": [],
   "source": [
    "text = \"Apple makes iPhones, and Samsung makes Galaxies\""
   ]
  },
  {
   "cell_type": "code",
   "execution_count": 26,
   "metadata": {},
   "outputs": [],
   "source": [
    "doc = nlp(text)"
   ]
  },
  {
   "cell_type": "code",
   "execution_count": 27,
   "metadata": {},
   "outputs": [
    {
     "data": {
      "text/plain": [
       "()"
      ]
     },
     "execution_count": 27,
     "metadata": {},
     "output_type": "execute_result"
    }
   ],
   "source": [
    "doc.ents"
   ]
  },
  {
   "cell_type": "code",
   "execution_count": null,
   "metadata": {},
   "outputs": [],
   "source": []
  }
 ],
 "metadata": {
  "kernelspec": {
   "display_name": "Python 3.9.12 ('mini_project_spacy3')",
   "language": "python",
   "name": "python3"
  },
  "language_info": {
   "codemirror_mode": {
    "name": "ipython",
    "version": 3
   },
   "file_extension": ".py",
   "mimetype": "text/x-python",
   "name": "python",
   "nbconvert_exporter": "python",
   "pygments_lexer": "ipython3",
   "version": "3.9.12"
  },
  "orig_nbformat": 4,
  "vscode": {
   "interpreter": {
    "hash": "98d0f332b1a8c8efdf81ec9af49b4c30327d9df723d786f43d486d3409196e2c"
   }
  }
 },
 "nbformat": 4,
 "nbformat_minor": 2
}
