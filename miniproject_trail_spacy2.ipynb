{
 "cells": [
  {
   "cell_type": "code",
   "execution_count": 16,
   "metadata": {},
   "outputs": [
    {
     "data": {
      "text/plain": [
       "'2.3.7'"
      ]
     },
     "execution_count": 16,
     "metadata": {},
     "output_type": "execute_result"
    }
   ],
   "source": [
    "spacy.__version__"
   ]
  },
  {
   "cell_type": "code",
   "execution_count": 2,
   "metadata": {},
   "outputs": [
    {
     "data": {
      "text/plain": [
       "<spacy_crfsuite.crf_extractor.CRFExtractor at 0x7ff461294fa0>"
      ]
     },
     "execution_count": 2,
     "metadata": {},
     "output_type": "execute_result"
    }
   ],
   "source": [
    "from spacy_crfsuite import CRFExtractor\n",
    "\n",
    "component_config = {\n",
    "    \"features\": [\n",
    "        [\n",
    "            \"low\",\n",
    "            \"title\",\n",
    "            \"upper\",\n",
    "            \"pos\",\n",
    "            \"pos2\"\n",
    "        ],\n",
    "        [\n",
    "            \"low\",\n",
    "            \"bias\",\n",
    "            \"prefix5\",\n",
    "            \"prefix2\",\n",
    "            \"suffix5\",\n",
    "            \"suffix3\",\n",
    "            \"suffix2\",\n",
    "            \"upper\",\n",
    "            \"title\",\n",
    "            \"digit\",\n",
    "            \"pos\",\n",
    "            \"pos2\"\n",
    "        ],\n",
    "        [\n",
    "            \"low\",\n",
    "            \"title\",\n",
    "            \"upper\",\n",
    "            \"pos\",\n",
    "            \"pos2\"\n",
    "        ],\n",
    "    ],\n",
    "    \"c1\": 0.01,\n",
    "    \"c2\": 0.22\n",
    "}\n",
    "\n",
    "crf_extractor = CRFExtractor(component_config=component_config)\n",
    "crf_extractor"
   ]
  },
  {
   "cell_type": "code",
   "execution_count": 3,
   "metadata": {},
   "outputs": [
    {
     "data": {
      "text/plain": [
       "{'features': [['low', 'title', 'upper', 'pos', 'pos2'],\n",
       "  ['low',\n",
       "   'bias',\n",
       "   'prefix5',\n",
       "   'prefix2',\n",
       "   'suffix5',\n",
       "   'suffix3',\n",
       "   'suffix2',\n",
       "   'upper',\n",
       "   'title',\n",
       "   'digit',\n",
       "   'pos',\n",
       "   'pos2'],\n",
       "  ['low', 'title', 'upper', 'pos', 'pos2']],\n",
       " 'c1': 0.01,\n",
       " 'c2': 0.22}"
      ]
     },
     "execution_count": 3,
     "metadata": {},
     "output_type": "execute_result"
    }
   ],
   "source": [
    "component_config"
   ]
  },
  {
   "cell_type": "code",
   "execution_count": 4,
   "metadata": {},
   "outputs": [],
   "source": [
    "import spacy\n",
    "\n",
    "use_dense_features = crf_extractor.use_dense_features()\n",
    "nlp = spacy.load(\"en_core_web_md\")"
   ]
  },
  {
   "cell_type": "code",
   "execution_count": 5,
   "metadata": {},
   "outputs": [],
   "source": [
    "from tqdm.notebook import tqdm_notebook\n",
    "\n",
    "from spacy_crfsuite import read_file\n",
    "from spacy_crfsuite.train import gold_example_to_crf_tokens\n",
    "from spacy_crfsuite.tokenizer import SpacyTokenizer\n",
    "\n",
    "def read_examples(file, tokenizer, use_dense_features=False, limit=None):\n",
    "    examples = []\n",
    "    it = read_file(file)\n",
    "    it = it[:limit] if limit else it\n",
    "    for raw_example in tqdm_notebook(it, desc=file):\n",
    "        crf_example = gold_example_to_crf_tokens(\n",
    "            raw_example, \n",
    "            tokenizer=tokenizer, \n",
    "            use_dense_features=use_dense_features, \n",
    "            bilou=False\n",
    "        )\n",
    "        examples.append(crf_example)\n",
    "    return examples\n",
    "\n",
    "# Spacy tokenizer\n",
    "tokenizer = SpacyTokenizer(nlp)\n",
    "\n",
    "# OPTIONAL: fine-tune hyper-params\n",
    "# this is going to take a while, so you might need a coffee break ...\n",
    "dev_examples = None\n",
    "# dev_examples = read_examples(\"conll03/valid.conll\", tokenizer, use_dense_features=use_dense_features)\n",
    "\n",
    "if dev_examples:\n",
    "    rs = crf_extractor.fine_tune(dev_examples, cv=5, n_iter=30, random_state=42)\n",
    "    print(\"best params:\", rs.best_params_, \", score:\", rs.best_score_)\n",
    "    crf_extractor.component_config.update(rs.best_params_)"
   ]
  },
  {
   "cell_type": "code",
   "execution_count": 20,
   "metadata": {},
   "outputs": [
    {
     "data": {
      "application/vnd.jupyter.widget-view+json": {
       "model_id": "a157c38dccd348b18bba899d04b2da46",
       "version_major": 2,
       "version_minor": 0
      },
      "text/plain": [
       "/Users/mazz/Documents/Programming/Python/Mini-Project/DataSet/Dataset2.txt:   0%|          | 0/14041 [00:00<?,…"
      ]
     },
     "metadata": {},
     "output_type": "display_data"
    },
    {
     "name": "stdout",
     "output_type": "stream",
     "text": [
      "CPU times: user 2 µs, sys: 0 ns, total: 2 µs\n",
      "Wall time: 9.06 µs\n"
     ]
    }
   ],
   "source": [
    "train_examples = read_examples(\"/Users/mazz/Documents/Programming/Python/Mini-Project/DataSet/Dataset2.txt\", tokenizer=tokenizer, use_dense_features=use_dense_features)\n",
    "\n",
    "crf_extractor.train(train_examples, dev_samples=dev_examples)\n",
    "%time"
   ]
  },
  {
   "cell_type": "code",
   "execution_count": 7,
   "metadata": {},
   "outputs": [
    {
     "data": {
      "application/vnd.jupyter.widget-view+json": {
       "model_id": "06d0703ddffc4058aeb4ba67370519e9",
       "version_major": 2,
       "version_minor": 0
      },
      "text/plain": [
       "/Users/mazz/Documents/Programming/Python/Mini-Project/DataSet/Dataset3.txt:   0%|          | 0/3453 [00:00<?, …"
      ]
     },
     "metadata": {},
     "output_type": "display_data"
    }
   ],
   "source": [
    "test_examples = read_examples(\"/Users/mazz/Documents/Programming/Python/Mini-Project/DataSet/Dataset3.txt\", tokenizer=tokenizer, use_dense_features=use_dense_features)"
   ]
  },
  {
   "cell_type": "code",
   "execution_count": 8,
   "metadata": {},
   "outputs": [
    {
     "name": "stdout",
     "output_type": "stream",
     "text": [
      "Most likely transitions:\n",
      "B-ORG      -> I-ORG      7.260039\n",
      "B-PER      -> I-PER      7.016621\n",
      "I-ORG      -> I-ORG      6.787570\n",
      "I-MISC     -> I-MISC     6.301491\n",
      "B-LOC      -> I-LOC      6.284100\n",
      "B-MISC     -> I-MISC     6.052984\n",
      "I-LOC      -> I-LOC      5.508632\n",
      "I-PER      -> I-PER      4.808802\n",
      "O          -> B-PER      3.496929\n",
      "O          -> O          2.778873\n",
      "\n",
      "Positive features:\n",
      "5.259367 O          0:bias:bias\n",
      "4.243087 O          0:suffix3:day\n",
      "3.915058 B-ORG      -1:low:v\n",
      "3.763559 B-PER      BOS\n",
      "3.526967 O          BOS\n",
      "3.258426 B-PER      0:prefix2:Mc\n",
      "3.239694 O          0:prefix2:W1\n",
      "3.103391 B-LOC      BOS\n",
      "3.099422 B-ORG      BOS\n",
      "2.878765 B-ORG      0:suffix5:shire\n"
     ]
    }
   ],
   "source": [
    "print(crf_extractor.explain())"
   ]
  },
  {
   "cell_type": "code",
   "execution_count": 9,
   "metadata": {},
   "outputs": [
    {
     "data": {
      "text/plain": [
       "{'low': <function spacy_crfsuite.crf_extractor.CRFExtractor.<lambda>(crf_token)>,\n",
       " 'title': <function spacy_crfsuite.crf_extractor.CRFExtractor.<lambda>(crf_token)>,\n",
       " 'prefix5': <function spacy_crfsuite.crf_extractor.CRFExtractor.<lambda>(crf_token)>,\n",
       " 'prefix2': <function spacy_crfsuite.crf_extractor.CRFExtractor.<lambda>(crf_token)>,\n",
       " 'suffix5': <function spacy_crfsuite.crf_extractor.CRFExtractor.<lambda>(crf_token)>,\n",
       " 'suffix3': <function spacy_crfsuite.crf_extractor.CRFExtractor.<lambda>(crf_token)>,\n",
       " 'suffix2': <function spacy_crfsuite.crf_extractor.CRFExtractor.<lambda>(crf_token)>,\n",
       " 'suffix1': <function spacy_crfsuite.crf_extractor.CRFExtractor.<lambda>(crf_token)>,\n",
       " 'bias': <function spacy_crfsuite.crf_extractor.CRFExtractor.<lambda>(crf_token)>,\n",
       " 'pos': <function spacy_crfsuite.crf_extractor.CRFExtractor.<lambda>(crf_token)>,\n",
       " 'pos2': <function spacy_crfsuite.crf_extractor.CRFExtractor.<lambda>(crf_token)>,\n",
       " 'upper': <function spacy_crfsuite.crf_extractor.CRFExtractor.<lambda>(crf_token)>,\n",
       " 'digit': <function spacy_crfsuite.crf_extractor.CRFExtractor.<lambda>(crf_token)>,\n",
       " 'shape': <function spacy_crfsuite.crf_extractor.CRFExtractor.<lambda>(crf_token)>,\n",
       " 'pattern': <function spacy_crfsuite.crf_extractor.CRFExtractor.<lambda>(crf_token)>,\n",
       " 'dense_features': <function spacy_crfsuite.crf_extractor.CRFExtractor.<lambda>(crf_token)>}"
      ]
     },
     "execution_count": 9,
     "metadata": {},
     "output_type": "execute_result"
    }
   ],
   "source": [
    "crf_extractor.function_dict"
   ]
  },
  {
   "cell_type": "code",
   "execution_count": 10,
   "metadata": {},
   "outputs": [
    {
     "name": "stdout",
     "output_type": "stream",
     "text": [
      "Help on method eval in module spacy_crfsuite.crf_extractor:\n",
      "\n",
      "eval(eval_samples: List[List[spacy_crfsuite.features.CRFToken]]) -> Optional[Tuple[Any, str]] method of spacy_crfsuite.crf_extractor.CRFExtractor instance\n",
      "    Evaluate the entity tagger on dev examples.\n",
      "    \n",
      "    Args:\n",
      "        eval_samples (list): list of dev examples.\n",
      "    \n",
      "    Returns:\n",
      "        (f1_score<float>, classification_report<str>)\n",
      "\n"
     ]
    }
   ],
   "source": [
    "help(crf_extractor.eval)"
   ]
  },
  {
   "cell_type": "code",
   "execution_count": 11,
   "metadata": {},
   "outputs": [],
   "source": [
    "#!pip uninstall sklearn-crfsuite"
   ]
  },
  {
   "cell_type": "code",
   "execution_count": 12,
   "metadata": {},
   "outputs": [],
   "source": [
    "#!pip install git+https://github.com/MeMartijn/updated-sklearn-crfsuite.git#egg=sklearn_crfsuite"
   ]
  },
  {
   "cell_type": "code",
   "execution_count": 13,
   "metadata": {},
   "outputs": [
    {
     "name": "stdout",
     "output_type": "stream",
     "text": [
      "0.8243772996833281\n",
      "              precision    recall  f1-score   support\n",
      "\n",
      "       B-LOC      0.851     0.889     0.870      1593\n",
      "       I-LOC      0.747     0.713     0.729       240\n",
      "      B-MISC      0.839     0.769     0.803       719\n",
      "      I-MISC      0.670     0.611     0.639       229\n",
      "       B-ORG      0.829     0.717     0.769      1699\n",
      "       I-ORG      0.745     0.724     0.734       863\n",
      "       B-PER      0.861     0.872     0.866      1593\n",
      "       I-PER      0.892     0.963     0.926      1121\n",
      "\n",
      "   micro avg      0.835     0.818     0.827      8057\n",
      "   macro avg      0.804     0.782     0.792      8057\n",
      "weighted avg      0.833     0.818     0.824      8057\n",
      "\n"
     ]
    }
   ],
   "source": [
    "for item in crf_extractor.eval(test_examples):\n",
    "    print(item)"
   ]
  },
  {
   "cell_type": "code",
   "execution_count": 14,
   "metadata": {},
   "outputs": [
    {
     "data": {
      "text/plain": [
       "['spacy_crfsuite_trained.bz2']"
      ]
     },
     "execution_count": 14,
     "metadata": {},
     "output_type": "execute_result"
    }
   ],
   "source": [
    "import joblib\n",
    "joblib.dump(crf_extractor, filename='spacy_crfsuite_trained_spacy2.bz2')"
   ]
  },
  {
   "cell_type": "code",
   "execution_count": 17,
   "metadata": {},
   "outputs": [
    {
     "name": "stdout",
     "output_type": "stream",
     "text": [
      "George Walker Bush - PER\n",
      "American - MISC\n",
      "United States - LOC\n"
     ]
    },
    {
     "name": "stderr",
     "output_type": "stream",
     "text": [
      "/Users/mazz/opt/anaconda3/envs/mini_project_spacy2/lib/python3.9/site-packages/spacy_crfsuite/crf_extractor.py:390: UserWarning: Inconsistent BILOU tagging found, B- tag, L- tag pair encloses multiple entity classes.i.e. [B-a, I-b, L-a] instead of [B-a, I-a, L-a].\n",
      "Assuming B- class is correct.\n",
      "  warnings.warn(\n",
      "/Users/mazz/opt/anaconda3/envs/mini_project_spacy2/lib/python3.9/site-packages/spacy_crfsuite/crf_extractor.py:407: UserWarning: Inconsistent BILOU tagging found, B- tag not closed by L- tag, i.e [B-a, I-a, O] instead of [B-a, L-a, O].\n",
      "Assuming last tag is L-\n",
      "  warnings.warn(\n"
     ]
    }
   ],
   "source": [
    "from spacy_crfsuite import CRFEntityExtractor\n",
    "\n",
    "# Add our CRF component to pipeline\n",
    "nlp = spacy.load(\"en_core_web_sm\", disable=[\"ner\"])\n",
    "pipe = CRFEntityExtractor(nlp, crf_extractor=crf_extractor)\n",
    "nlp.add_pipe(pipe)\n",
    "\n",
    "# And use natively ..\n",
    "doc = nlp(\n",
    "    \"George Walker Bush (born July 6, 1946) is an American politician and businessman \"\n",
    "    \"who served as the 43rd president of the United States from 2001 to 2009.\")\n",
    "\n",
    "for ent in doc.ents:\n",
    "    print(ent, \"-\", ent.label_)"
   ]
  },
  {
   "cell_type": "code",
   "execution_count": 1,
   "metadata": {},
   "outputs": [],
   "source": [
    "import spacy\n",
    "\n",
    "nlp = spacy.load(\"en_core_web_md\", vectors='/Users/mazz/Documents/Programming/Python/Mini-Project/Script/Fastext_models/fastext', disable=[\"ner\"])"
   ]
  }
 ],
 "metadata": {
  "kernelspec": {
   "display_name": "Python 3.9.12 ('mini_project_spacy2')",
   "language": "python",
   "name": "python3"
  },
  "language_info": {
   "codemirror_mode": {
    "name": "ipython",
    "version": 3
   },
   "file_extension": ".py",
   "mimetype": "text/x-python",
   "name": "python",
   "nbconvert_exporter": "python",
   "pygments_lexer": "ipython3",
   "version": "3.9.12"
  },
  "orig_nbformat": 4,
  "vscode": {
   "interpreter": {
    "hash": "3678ab3cdbfc8484ac3167a17648ec7454700d09c86c4cb2198634bf42181d54"
   }
  }
 },
 "nbformat": 4,
 "nbformat_minor": 2
}
